{
 "cells": [
  {
   "cell_type": "code",
   "execution_count": 1,
   "id": "4e5f7d0b-7370-4ea1-883c-f00b70b28baa",
   "metadata": {},
   "outputs": [],
   "source": [
    "#importing libraries\n",
    "import pandas as pd\n",
    "import mysql.connector\n",
    "import numpy as np"
   ]
  },
  {
   "cell_type": "code",
   "execution_count": 2,
   "id": "c8aaccf6-d484-443a-a7d2-4cda737cc448",
   "metadata": {},
   "outputs": [
    {
     "data": {
      "text/html": [
       "<div>\n",
       "<style scoped>\n",
       "    .dataframe tbody tr th:only-of-type {\n",
       "        vertical-align: middle;\n",
       "    }\n",
       "\n",
       "    .dataframe tbody tr th {\n",
       "        vertical-align: top;\n",
       "    }\n",
       "\n",
       "    .dataframe thead th {\n",
       "        text-align: right;\n",
       "    }\n",
       "</style>\n",
       "<table border=\"1\" class=\"dataframe\">\n",
       "  <thead>\n",
       "    <tr style=\"text-align: right;\">\n",
       "      <th></th>\n",
       "      <th>Bus_name</th>\n",
       "      <th>Bus_type</th>\n",
       "      <th>Start_time</th>\n",
       "      <th>End_time</th>\n",
       "      <th>Total_duration</th>\n",
       "      <th>Price</th>\n",
       "      <th>Seats_Available</th>\n",
       "      <th>Ratings</th>\n",
       "      <th>Route_link</th>\n",
       "      <th>Route_name</th>\n",
       "    </tr>\n",
       "  </thead>\n",
       "  <tbody>\n",
       "    <tr>\n",
       "      <th>0</th>\n",
       "      <td>KSRTC (Kerala) - 52</td>\n",
       "      <td>SWIFT-GARUDA A/C SEATER BUS</td>\n",
       "      <td>12:00</td>\n",
       "      <td>20:20</td>\n",
       "      <td>08h 20m</td>\n",
       "      <td>INR 945</td>\n",
       "      <td>22 Seats available</td>\n",
       "      <td>3.7\\n129</td>\n",
       "      <td>https://www.redbus.in/bus-tickets/bangalore-to...</td>\n",
       "      <td>Bangalore to Kozhikode</td>\n",
       "    </tr>\n",
       "    <tr>\n",
       "      <th>1</th>\n",
       "      <td>KSRTC (Kerala) - 1210</td>\n",
       "      <td>SWIFT-HYBRID NON AC SEATER CUM SLEEPER</td>\n",
       "      <td>12:55</td>\n",
       "      <td>21:05</td>\n",
       "      <td>08h 10m</td>\n",
       "      <td>INR 740</td>\n",
       "      <td>11 Seats available</td>\n",
       "      <td>3.8\\n20</td>\n",
       "      <td>https://www.redbus.in/bus-tickets/bangalore-to...</td>\n",
       "      <td>Bangalore to Kozhikode</td>\n",
       "    </tr>\n",
       "    <tr>\n",
       "      <th>2</th>\n",
       "      <td>KSRTC (Kerala) - 1378</td>\n",
       "      <td>AC MULTI AXLE</td>\n",
       "      <td>13:46</td>\n",
       "      <td>21:25</td>\n",
       "      <td>07h 39m</td>\n",
       "      <td>INR 1099</td>\n",
       "      <td>25 Seats available</td>\n",
       "      <td>2.8\\n31</td>\n",
       "      <td>https://www.redbus.in/bus-tickets/bangalore-to...</td>\n",
       "      <td>Bangalore to Kozhikode</td>\n",
       "    </tr>\n",
       "    <tr>\n",
       "      <th>3</th>\n",
       "      <td>KSRTC (Kerala) - 129</td>\n",
       "      <td>SWIFT-GARUDA A/C SEATER BUS</td>\n",
       "      <td>14:15</td>\n",
       "      <td>23:05</td>\n",
       "      <td>08h 50m</td>\n",
       "      <td>INR 945</td>\n",
       "      <td>33 Seats available</td>\n",
       "      <td>4.2\\n83</td>\n",
       "      <td>https://www.redbus.in/bus-tickets/bangalore-to...</td>\n",
       "      <td>Bangalore to Kozhikode</td>\n",
       "    </tr>\n",
       "    <tr>\n",
       "      <th>4</th>\n",
       "      <td>KSRTC (Kerala) - 235</td>\n",
       "      <td>Swift Deluxe Non AC Air Bus (2+2)</td>\n",
       "      <td>15:00</td>\n",
       "      <td>01:00</td>\n",
       "      <td>10h 00m</td>\n",
       "      <td>INR 801</td>\n",
       "      <td>17 Seats available</td>\n",
       "      <td>3.9\\n15</td>\n",
       "      <td>https://www.redbus.in/bus-tickets/bangalore-to...</td>\n",
       "      <td>Bangalore to Kozhikode</td>\n",
       "    </tr>\n",
       "    <tr>\n",
       "      <th>...</th>\n",
       "      <td>...</td>\n",
       "      <td>...</td>\n",
       "      <td>...</td>\n",
       "      <td>...</td>\n",
       "      <td>...</td>\n",
       "      <td>...</td>\n",
       "      <td>...</td>\n",
       "      <td>...</td>\n",
       "      <td>...</td>\n",
       "      <td>...</td>\n",
       "    </tr>\n",
       "    <tr>\n",
       "      <th>2325</th>\n",
       "      <td>Droupadi Paribahan</td>\n",
       "      <td>A/C Seater (2+3)</td>\n",
       "      <td>14:10</td>\n",
       "      <td>16:58</td>\n",
       "      <td>02h 48m</td>\n",
       "      <td>INR 160</td>\n",
       "      <td>61 Seats available</td>\n",
       "      <td>2.9\\n30</td>\n",
       "      <td>https://www.redbus.in/bus-tickets/kolkata-to-h...</td>\n",
       "      <td>Kolkata to Haldia</td>\n",
       "    </tr>\n",
       "    <tr>\n",
       "      <th>2326</th>\n",
       "      <td>KRISHNAKALI</td>\n",
       "      <td>A/C Seater (2+3)</td>\n",
       "      <td>14:45</td>\n",
       "      <td>17:30</td>\n",
       "      <td>02h 45m</td>\n",
       "      <td>INR 165</td>\n",
       "      <td>59 Seats available</td>\n",
       "      <td>2.4\\n53</td>\n",
       "      <td>https://www.redbus.in/bus-tickets/kolkata-to-h...</td>\n",
       "      <td>Kolkata to Haldia</td>\n",
       "    </tr>\n",
       "    <tr>\n",
       "      <th>2327</th>\n",
       "      <td>Droupadi Bus Service</td>\n",
       "      <td>Non AC Seater (2+3)</td>\n",
       "      <td>16:20</td>\n",
       "      <td>19:10</td>\n",
       "      <td>02h 50m</td>\n",
       "      <td>INR 121</td>\n",
       "      <td>54 Seats available</td>\n",
       "      <td>2.2\\n21</td>\n",
       "      <td>https://www.redbus.in/bus-tickets/kolkata-to-h...</td>\n",
       "      <td>Kolkata to Haldia</td>\n",
       "    </tr>\n",
       "    <tr>\n",
       "      <th>2328</th>\n",
       "      <td>WBTC (CTC) Habra-Midnapur - 194|14:45</td>\n",
       "      <td>Non AC Seater (2+3)</td>\n",
       "      <td>14:45</td>\n",
       "      <td>17:40</td>\n",
       "      <td>02h 55m</td>\n",
       "      <td>INR 111</td>\n",
       "      <td>41 Seats available</td>\n",
       "      <td>3.1</td>\n",
       "      <td>https://www.redbus.in/bus-tickets/midnapore-to...</td>\n",
       "      <td>Midnapore to Kolkata Airport</td>\n",
       "    </tr>\n",
       "    <tr>\n",
       "      <th>2329</th>\n",
       "      <td>WBTC (CTC) Habra-Midnapur - 194|15:40</td>\n",
       "      <td>Non AC Seater (2+3)</td>\n",
       "      <td>15:40</td>\n",
       "      <td>18:40</td>\n",
       "      <td>03h 00m</td>\n",
       "      <td>INR 111</td>\n",
       "      <td>36 Seats available</td>\n",
       "      <td>2.8\\n24</td>\n",
       "      <td>https://www.redbus.in/bus-tickets/midnapore-to...</td>\n",
       "      <td>Midnapore to Kolkata Airport</td>\n",
       "    </tr>\n",
       "  </tbody>\n",
       "</table>\n",
       "<p>2330 rows × 10 columns</p>\n",
       "</div>"
      ],
      "text/plain": [
       "                                   Bus_name  \\\n",
       "0                       KSRTC (Kerala) - 52   \n",
       "1                     KSRTC (Kerala) - 1210   \n",
       "2                     KSRTC (Kerala) - 1378   \n",
       "3                      KSRTC (Kerala) - 129   \n",
       "4                      KSRTC (Kerala) - 235   \n",
       "...                                     ...   \n",
       "2325                     Droupadi Paribahan   \n",
       "2326                            KRISHNAKALI   \n",
       "2327                   Droupadi Bus Service   \n",
       "2328  WBTC (CTC) Habra-Midnapur - 194|14:45   \n",
       "2329  WBTC (CTC) Habra-Midnapur - 194|15:40   \n",
       "\n",
       "                                    Bus_type Start_time End_time  \\\n",
       "0                SWIFT-GARUDA A/C SEATER BUS      12:00    20:20   \n",
       "1     SWIFT-HYBRID NON AC SEATER CUM SLEEPER      12:55    21:05   \n",
       "2                              AC MULTI AXLE      13:46    21:25   \n",
       "3                SWIFT-GARUDA A/C SEATER BUS      14:15    23:05   \n",
       "4          Swift Deluxe Non AC Air Bus (2+2)      15:00    01:00   \n",
       "...                                      ...        ...      ...   \n",
       "2325                        A/C Seater (2+3)      14:10    16:58   \n",
       "2326                        A/C Seater (2+3)      14:45    17:30   \n",
       "2327                     Non AC Seater (2+3)      16:20    19:10   \n",
       "2328                     Non AC Seater (2+3)      14:45    17:40   \n",
       "2329                     Non AC Seater (2+3)      15:40    18:40   \n",
       "\n",
       "     Total_duration     Price     Seats_Available   Ratings  \\\n",
       "0           08h 20m   INR 945  22 Seats available  3.7\\n129   \n",
       "1           08h 10m   INR 740  11 Seats available   3.8\\n20   \n",
       "2           07h 39m  INR 1099  25 Seats available   2.8\\n31   \n",
       "3           08h 50m   INR 945  33 Seats available   4.2\\n83   \n",
       "4           10h 00m   INR 801  17 Seats available   3.9\\n15   \n",
       "...             ...       ...                 ...       ...   \n",
       "2325        02h 48m   INR 160  61 Seats available   2.9\\n30   \n",
       "2326        02h 45m   INR 165  59 Seats available   2.4\\n53   \n",
       "2327        02h 50m   INR 121  54 Seats available   2.2\\n21   \n",
       "2328        02h 55m   INR 111  41 Seats available       3.1   \n",
       "2329        03h 00m   INR 111  36 Seats available   2.8\\n24   \n",
       "\n",
       "                                             Route_link  \\\n",
       "0     https://www.redbus.in/bus-tickets/bangalore-to...   \n",
       "1     https://www.redbus.in/bus-tickets/bangalore-to...   \n",
       "2     https://www.redbus.in/bus-tickets/bangalore-to...   \n",
       "3     https://www.redbus.in/bus-tickets/bangalore-to...   \n",
       "4     https://www.redbus.in/bus-tickets/bangalore-to...   \n",
       "...                                                 ...   \n",
       "2325  https://www.redbus.in/bus-tickets/kolkata-to-h...   \n",
       "2326  https://www.redbus.in/bus-tickets/kolkata-to-h...   \n",
       "2327  https://www.redbus.in/bus-tickets/kolkata-to-h...   \n",
       "2328  https://www.redbus.in/bus-tickets/midnapore-to...   \n",
       "2329  https://www.redbus.in/bus-tickets/midnapore-to...   \n",
       "\n",
       "                        Route_name  \n",
       "0           Bangalore to Kozhikode  \n",
       "1           Bangalore to Kozhikode  \n",
       "2           Bangalore to Kozhikode  \n",
       "3           Bangalore to Kozhikode  \n",
       "4           Bangalore to Kozhikode  \n",
       "...                            ...  \n",
       "2325             Kolkata to Haldia  \n",
       "2326             Kolkata to Haldia  \n",
       "2327             Kolkata to Haldia  \n",
       "2328  Midnapore to Kolkata Airport  \n",
       "2329  Midnapore to Kolkata Airport  \n",
       "\n",
       "[2330 rows x 10 columns]"
      ]
     },
     "execution_count": 2,
     "metadata": {},
     "output_type": "execute_result"
    }
   ],
   "source": [
    "# csv to dataframe\n",
    "df_buses_1=pd.read_csv(r\"C:\\Users\\GOD\\Desktop\\praveen/df_buses_1.csv\")\n",
    "df_buses_2=pd.read_csv(r\"C:\\Users\\GOD\\Desktop\\praveen/df_buses_2.csv\")\n",
    "df_buses_3=pd.read_csv(r\"C:\\Users\\GOD\\Desktop\\praveen/df_buses_3.csv\")\n",
    "df_buses_4=pd.read_csv(r\"C:\\Users\\GOD\\Desktop\\praveen/df_buses_4.csv\")\n",
    "df_buses_5=pd.read_csv(r\"C:\\Users\\GOD\\Desktop\\praveen/df_buses_R.csv\")\n",
    "df_buses_6=pd.read_csv(r\"C:\\Users\\GOD\\Desktop\\praveen/df_buses_SB.csv\")\n",
    "df_buses_7=pd.read_csv(r\"C:\\Users\\GOD\\Desktop\\praveen/df_buses_H.csv\")\n",
    "df_buses_8=pd.read_csv(r\"C:\\Users\\GOD\\Desktop\\praveen/df_buses_AS.csv\")\n",
    "df_buses_9=pd.read_csv(r\"C:\\Users\\GOD\\Desktop\\praveen/df_buses_8.csv\")\n",
    "df_buses_10=pd.read_csv(r\"C:\\Users\\GOD\\Desktop\\praveen/df_buses_10.csv\")\n",
    "\n",
    "Final_df=pd.concat([df_buses_1,df_buses_2,df_buses_3,df_buses_4,df_buses_5,df_buses_6,\n",
    "                    df_buses_7,df_buses_8,df_buses_9,df_buses_10],ignore_index=True)\n",
    "Final_df"
   ]
  },
  {
   "cell_type": "markdown",
   "id": "54c520d5-894f-4965-9662-8e43321a5c50",
   "metadata": {},
   "source": [
    "Data cleaning"
   ]
  },
  {
   "cell_type": "code",
   "execution_count": 5,
   "id": "cd66c75d-9e4f-4503-9546-e0b6abec7476",
   "metadata": {},
   "outputs": [
    {
     "name": "stdout",
     "output_type": "stream",
     "text": [
      "<class 'pandas.core.frame.DataFrame'>\n",
      "RangeIndex: 2330 entries, 0 to 2329\n",
      "Data columns (total 10 columns):\n",
      " #   Column           Non-Null Count  Dtype \n",
      "---  ------           --------------  ----- \n",
      " 0   Bus_name         2307 non-null   object\n",
      " 1   Bus_type         2305 non-null   object\n",
      " 2   Start_time       2307 non-null   object\n",
      " 3   End_time         2307 non-null   object\n",
      " 4   Total_duration   2307 non-null   object\n",
      " 5   Price            2306 non-null   object\n",
      " 6   Seats_Available  2305 non-null   object\n",
      " 7   Ratings          2307 non-null   object\n",
      " 8   Route_link       2330 non-null   object\n",
      " 9   Route_name       2330 non-null   object\n",
      "dtypes: object(10)\n",
      "memory usage: 182.2+ KB\n"
     ]
    }
   ],
   "source": [
    "# data about the data\n",
    "Final_df.info()"
   ]
  },
  {
   "cell_type": "code",
   "execution_count": 7,
   "id": "403b1c95-1bc3-46ff-88bd-1d23fa4aaa6b",
   "metadata": {},
   "outputs": [
    {
     "data": {
      "text/plain": [
       "0        945.0\n",
       "1        740.0\n",
       "2       1099.0\n",
       "3        945.0\n",
       "4        801.0\n",
       "         ...  \n",
       "2325     160.0\n",
       "2326     165.0\n",
       "2327     121.0\n",
       "2328     111.0\n",
       "2329     111.0\n",
       "Name: Price, Length: 2330, dtype: float64"
      ]
     },
     "execution_count": 7,
     "metadata": {},
     "output_type": "execute_result"
    }
   ],
   "source": [
    "#convert prices to numeric\n",
    "Final_df[\"Price\"]=Final_df[\"Price\"].str.replace(\"INR\",\"\")\n",
    "Final_df[\"Price\"]=Final_df[\"Price\"].astype(float)\n",
    "Final_df[\"Price\"].fillna(0) "
   ]
  },
  {
   "cell_type": "code",
   "execution_count": 9,
   "id": "81da54f1-abf2-4b53-9b84-aeabe65b188d",
   "metadata": {},
   "outputs": [
    {
     "name": "stderr",
     "output_type": "stream",
     "text": [
      "C:\\Users\\GOD\\AppData\\Local\\Temp\\ipykernel_4228\\709375803.py:6: FutureWarning: A value is trying to be set on a copy of a DataFrame or Series through chained assignment using an inplace method.\n",
      "The behavior will change in pandas 3.0. This inplace method will never work because the intermediate object on which we are setting values always behaves as a copy.\n",
      "\n",
      "For example, when doing 'df[col].method(value, inplace=True)', try using 'df.method({col: value}, inplace=True)' or df[col] = df[col].method(value) instead, to perform the operation inplace on the original object.\n",
      "\n",
      "\n",
      "  Final_df[\"Ratings\"].fillna(0,inplace=True)\n"
     ]
    }
   ],
   "source": [
    "#convert Ratings to numeric\n",
    "Final_df[\"Ratings\"]=Final_df[\"Ratings\"].str.replace(\"New\",\"\")\n",
    "Final_df[\"Ratings\"]=Final_df[\"Ratings\"].str.strip()\n",
    "Final_df[\"Ratings\"]=Final_df[\"Ratings\"].str.split().str[0]\n",
    "Final_df[\"Ratings\"] = pd.to_numeric(Final_df[\"Ratings\"], errors='coerce')\n",
    "Final_df[\"Ratings\"].fillna(0,inplace=True) "
   ]
  },
  {
   "cell_type": "code",
   "execution_count": 11,
   "id": "20c2ad0f-72c8-43a2-8e1c-e7dce5b14a4e",
   "metadata": {},
   "outputs": [
    {
     "name": "stdout",
     "output_type": "stream",
     "text": [
      "<class 'pandas.core.frame.DataFrame'>\n",
      "RangeIndex: 2330 entries, 0 to 2329\n",
      "Data columns (total 10 columns):\n",
      " #   Column           Non-Null Count  Dtype  \n",
      "---  ------           --------------  -----  \n",
      " 0   Bus_name         2307 non-null   object \n",
      " 1   Bus_type         2305 non-null   object \n",
      " 2   Start_time       2307 non-null   object \n",
      " 3   End_time         2307 non-null   object \n",
      " 4   Total_duration   2307 non-null   object \n",
      " 5   Price            2306 non-null   float64\n",
      " 6   Seats_Available  2305 non-null   object \n",
      " 7   Ratings          2330 non-null   float64\n",
      " 8   Route_link       2330 non-null   object \n",
      " 9   Route_name       2330 non-null   object \n",
      "dtypes: float64(2), object(8)\n",
      "memory usage: 182.2+ KB\n"
     ]
    }
   ],
   "source": [
    "# info after the data type change\n",
    "Final_df.info()"
   ]
  },
  {
   "cell_type": "code",
   "execution_count": 13,
   "id": "2473ad58-e247-4f05-92cf-cc42bb9ae0f6",
   "metadata": {},
   "outputs": [],
   "source": [
    "Final_df = Final_df[Final_df[\"Price\"] <= 7000]"
   ]
  },
  {
   "cell_type": "code",
   "execution_count": 15,
   "id": "ff6da905-7124-4b51-8a8c-d215158dd417",
   "metadata": {},
   "outputs": [],
   "source": [
    "# replacing the nan value\n",
    "Final_df = Final_df.replace({np.nan: None})"
   ]
  },
  {
   "cell_type": "code",
   "execution_count": 35,
   "id": "4b70fb81-45ff-498e-a0f8-0b7b760e07bd",
   "metadata": {},
   "outputs": [],
   "source": [
    "# change dataframe to csv\n",
    "path=r\"C:\\Users\\GOD\\Desktop\\praveen/Final_busdetails_df.csv\"\n",
    "Final_df.to_csv(path,index=False)"
   ]
  },
  {
   "cell_type": "markdown",
   "id": "232cb5fd-1eb6-4c65-8c20-8d2d14ea01fd",
   "metadata": {},
   "source": [
    "Create a mysql database"
   ]
  },
  {
   "cell_type": "code",
   "execution_count": 19,
   "id": "6cbd562a-1af6-49f7-a67b-519ec145893e",
   "metadata": {},
   "outputs": [],
   "source": [
    "#sql connection\n",
    "conn=mysql.connector.connect(host=\"localhost\", user=\"root\", password=\"\",database=\"RED_BUS_DETAILS\")\n",
    "my_cursor = conn.cursor()\n",
    "my_cursor.execute(\"CREATE DATABASE IF NOT EXISTS RED_BUS_DETAILS\")"
   ]
  },
  {
   "cell_type": "code",
   "execution_count": 21,
   "id": "df017945-f024-46ab-9c99-fcb5d9dec339",
   "metadata": {},
   "outputs": [
    {
     "name": "stdout",
     "output_type": "stream",
     "text": [
      "Table Created successfully\n"
     ]
    }
   ],
   "source": [
    "# Table Creation\n",
    "my_cursor.execute('''CREATE TABLE IF NOT EXISTS bus_details(\n",
    "                  ID INT AUTO_INCREMENT PRIMARY KEY,\n",
    "                  Bus_name VARCHAR(255) NOT NULL,\n",
    "                  Bus_type VARCHAR(255) NOT NULL,\n",
    "                  Start_time VARCHAR(255) NOT NULL,\n",
    "                  End_time VARCHAR(255) NOT NULL,\n",
    "                  Total_duration VARCHAR(255) NOT NULL,\n",
    "                  Price FLOAT NULL,\n",
    "                  Seats_Available VARCHAR(255) NOT NULL,\n",
    "                  Ratings Float NULL,\n",
    "                  Route_link VARCHAR(255) NULL,\n",
    "                  Route_name VARCHAR(255) NULL\n",
    "                  )''')\n",
    "print(\"Table Created successfully\")"
   ]
  },
  {
   "cell_type": "code",
   "execution_count": 23,
   "id": "391b000f-cee7-4a37-bb09-3606161ff3da",
   "metadata": {},
   "outputs": [
    {
     "name": "stdout",
     "output_type": "stream",
     "text": [
      "Values inserted successfully\n"
     ]
    }
   ],
   "source": [
    "# SQL query to insert data into bus_details table\n",
    "insert_query = '''INSERT INTO bus_details(\n",
    "                    Bus_name,\n",
    "                    Bus_type,\n",
    "                    Start_time,\n",
    "                    End_time,\n",
    "                    Total_duration,\n",
    "                    Price,\n",
    "                    Seats_Available,\n",
    "                    Ratings,\n",
    "                    Route_link,\n",
    "                    Route_name)\n",
    "                  VALUES(%s, %s, %s, %s, %s, %s, %s, %s, %s, %s)'''\n",
    "data = Final_df.values.tolist()\n",
    "\n",
    "my_cursor.executemany(insert_query, data)\n",
    "\n",
    "conn.commit()\n",
    "\n",
    "print(\"Values inserted successfully\")"
   ]
  },
  {
   "cell_type": "code",
   "execution_count": null,
   "id": "5bee6878-52c4-47f2-ad5a-87bd1d3778c4",
   "metadata": {},
   "outputs": [],
   "source": []
  }
 ],
 "metadata": {
  "kernelspec": {
   "display_name": "Python 3 (ipykernel)",
   "language": "python",
   "name": "python3"
  },
  "language_info": {
   "codemirror_mode": {
    "name": "ipython",
    "version": 3
   },
   "file_extension": ".py",
   "mimetype": "text/x-python",
   "name": "python",
   "nbconvert_exporter": "python",
   "pygments_lexer": "ipython3",
   "version": "3.12.4"
  }
 },
 "nbformat": 4,
 "nbformat_minor": 5
}
